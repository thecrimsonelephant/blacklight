{
 "cells": [
  {
   "cell_type": "code",
   "execution_count": 1,
   "id": "2c33ccc9",
   "metadata": {},
   "outputs": [],
   "source": [
    "import json\n",
    "import pandas as pd\n",
    "import pprint as pp"
   ]
  },
  {
   "cell_type": "code",
   "execution_count": 2,
   "id": "200fccb8",
   "metadata": {},
   "outputs": [],
   "source": [
    "def loadHausJSON(path):\n",
    "    with open(path, 'r') as f:\n",
    "        data = json.load(f)\n",
    "    # pp.pprint(data)\n",
    "    return data"
   ]
  },
  {
   "cell_type": "code",
   "execution_count": 3,
   "id": "6f0fd76f",
   "metadata": {},
   "outputs": [],
   "source": [
    "def parseHausData(data):\n",
    "    parsed = []\n",
    "    for key, entries in data.items():\n",
    "        for item in entries:\n",
    "            parsed.append({\n",
    "                \"id\": key,  # keep track of the original key\n",
    "                \"url\": item.get(\"url\"),\n",
    "                \"url_status\": item.get(\"url_status\"),\n",
    "                \"date_added\": item.get(\"dateadded\"),\n",
    "                \"last_online\": item.get(\"last_online\"),\n",
    "                \"tags\": item.get(\"tags\", []),\n",
    "                \"threat\": item.get(\"threat\"),\n",
    "                \"reporter\": item.get(\"reporter\"),\n",
    "                \"urlhaus_link\": item.get(\"urlhaus_link\")\n",
    "            })\n",
    "    return parsed"
   ]
  },
  {
   "cell_type": "code",
   "execution_count": null,
   "id": "997fd960",
   "metadata": {},
   "outputs": [],
   "source": [
    "links = df['urlhaus_link']\n"
   ]
  }
 ],
 "metadata": {
  "kernelspec": {
   "display_name": "venv",
   "language": "python",
   "name": "python3"
  },
  "language_info": {
   "codemirror_mode": {
    "name": "ipython",
    "version": 3
   },
   "file_extension": ".py",
   "mimetype": "text/x-python",
   "name": "python",
   "nbconvert_exporter": "python",
   "pygments_lexer": "ipython3",
   "version": "3.13.5"
  }
 },
 "nbformat": 4,
 "nbformat_minor": 5
}
